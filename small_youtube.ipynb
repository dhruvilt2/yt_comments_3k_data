{
  "nbformat": 4,
  "nbformat_minor": 0,
  "metadata": {
    "colab": {
      "name": "small_youtube.ipynb",
      "provenance": [],
      "collapsed_sections": [],
      "mount_file_id": "1VSrUJL4G471r3gogiFjSchdF5McYmkxm",
      "authorship_tag": "ABX9TyO+GALiHRGcLQECIDLwTHtz"
    },
    "kernelspec": {
      "name": "python3",
      "display_name": "Python 3"
    },
    "language_info": {
      "name": "python"
    },
    "gpuClass": "standard"
  },
  "cells": [
    {
      "cell_type": "markdown",
      "source": [
        "## Importing Datasets and Libraries"
      ],
      "metadata": {
        "id": "WwM_B9JU3xIL"
      }
    },
    {
      "cell_type": "code",
      "execution_count": 1,
      "metadata": {
        "id": "XUBjyy2U0wWu"
      },
      "outputs": [],
      "source": [
        "import tensorflow as tf\n",
        "import pandas as pd\n",
        "import numpy as np\n",
        "import matplotlib.pyplot as plt\n",
        "import random\n",
        "from tensorflow.keras import layers\n",
        "from sklearn.metrics import ConfusionMatrixDisplay,confusion_matrix\n",
        "from sklearn.model_selection import train_test_split\n"
      ]
    },
    {
      "cell_type": "markdown",
      "source": [
        "###Get Data"
      ],
      "metadata": {
        "id": "Nsnt66pA0-Gx"
      }
    },
    {
      "cell_type": "code",
      "source": [
        "df=pd.read_csv(\"Comments.csv\")\n"
      ],
      "metadata": {
        "id": "ZgZrYtPG6pgv"
      },
      "execution_count": 2,
      "outputs": []
    },
    {
      "cell_type": "code",
      "source": [
        "df"
      ],
      "metadata": {
        "colab": {
          "base_uri": "https://localhost:8080/",
          "height": 424
        },
        "id": "7uCa2Ehz69rK",
        "outputId": "2e367aeb-9d3c-4a00-ebe1-92417feae019"
      },
      "execution_count": 3,
      "outputs": [
        {
          "output_type": "execute_result",
          "data": {
            "text/plain": [
              "                                               comments      target\n",
              "0     This guy actually puts in a lot of effort in h...  suggestion\n",
              "1     I've learnt HTML, CSS, Javascript and Python a...  suggestion\n",
              "2     Watched this video one year ago to start my co...  suggestion\n",
              "3     His teaching is the most effective I've found ...  suggestion\n",
              "4     I finally finished the whole 4 hours, and now ...    positive\n",
              "...                                                 ...         ...\n",
              "2459          Who are those 9 fools disliked the video.    question\n",
              "2460                            Anyone from karnataka??    question\n",
              "2461                              6th person to comment       other\n",
              "2462                                             Things       other\n",
              "2463  Bruh I done watched about a dozen of these so ...    question\n",
              "\n",
              "[2464 rows x 2 columns]"
            ],
            "text/html": [
              "\n",
              "  <div id=\"df-1a75961a-52e6-4b1d-ba82-595478ced7d5\">\n",
              "    <div class=\"colab-df-container\">\n",
              "      <div>\n",
              "<style scoped>\n",
              "    .dataframe tbody tr th:only-of-type {\n",
              "        vertical-align: middle;\n",
              "    }\n",
              "\n",
              "    .dataframe tbody tr th {\n",
              "        vertical-align: top;\n",
              "    }\n",
              "\n",
              "    .dataframe thead th {\n",
              "        text-align: right;\n",
              "    }\n",
              "</style>\n",
              "<table border=\"1\" class=\"dataframe\">\n",
              "  <thead>\n",
              "    <tr style=\"text-align: right;\">\n",
              "      <th></th>\n",
              "      <th>comments</th>\n",
              "      <th>target</th>\n",
              "    </tr>\n",
              "  </thead>\n",
              "  <tbody>\n",
              "    <tr>\n",
              "      <th>0</th>\n",
              "      <td>This guy actually puts in a lot of effort in h...</td>\n",
              "      <td>suggestion</td>\n",
              "    </tr>\n",
              "    <tr>\n",
              "      <th>1</th>\n",
              "      <td>I've learnt HTML, CSS, Javascript and Python a...</td>\n",
              "      <td>suggestion</td>\n",
              "    </tr>\n",
              "    <tr>\n",
              "      <th>2</th>\n",
              "      <td>Watched this video one year ago to start my co...</td>\n",
              "      <td>suggestion</td>\n",
              "    </tr>\n",
              "    <tr>\n",
              "      <th>3</th>\n",
              "      <td>His teaching is the most effective I've found ...</td>\n",
              "      <td>suggestion</td>\n",
              "    </tr>\n",
              "    <tr>\n",
              "      <th>4</th>\n",
              "      <td>I finally finished the whole 4 hours, and now ...</td>\n",
              "      <td>positive</td>\n",
              "    </tr>\n",
              "    <tr>\n",
              "      <th>...</th>\n",
              "      <td>...</td>\n",
              "      <td>...</td>\n",
              "    </tr>\n",
              "    <tr>\n",
              "      <th>2459</th>\n",
              "      <td>Who are those 9 fools disliked the video.</td>\n",
              "      <td>question</td>\n",
              "    </tr>\n",
              "    <tr>\n",
              "      <th>2460</th>\n",
              "      <td>Anyone from karnataka??</td>\n",
              "      <td>question</td>\n",
              "    </tr>\n",
              "    <tr>\n",
              "      <th>2461</th>\n",
              "      <td>6th person to comment</td>\n",
              "      <td>other</td>\n",
              "    </tr>\n",
              "    <tr>\n",
              "      <th>2462</th>\n",
              "      <td>Things</td>\n",
              "      <td>other</td>\n",
              "    </tr>\n",
              "    <tr>\n",
              "      <th>2463</th>\n",
              "      <td>Bruh I done watched about a dozen of these so ...</td>\n",
              "      <td>question</td>\n",
              "    </tr>\n",
              "  </tbody>\n",
              "</table>\n",
              "<p>2464 rows × 2 columns</p>\n",
              "</div>\n",
              "      <button class=\"colab-df-convert\" onclick=\"convertToInteractive('df-1a75961a-52e6-4b1d-ba82-595478ced7d5')\"\n",
              "              title=\"Convert this dataframe to an interactive table.\"\n",
              "              style=\"display:none;\">\n",
              "        \n",
              "  <svg xmlns=\"http://www.w3.org/2000/svg\" height=\"24px\"viewBox=\"0 0 24 24\"\n",
              "       width=\"24px\">\n",
              "    <path d=\"M0 0h24v24H0V0z\" fill=\"none\"/>\n",
              "    <path d=\"M18.56 5.44l.94 2.06.94-2.06 2.06-.94-2.06-.94-.94-2.06-.94 2.06-2.06.94zm-11 1L8.5 8.5l.94-2.06 2.06-.94-2.06-.94L8.5 2.5l-.94 2.06-2.06.94zm10 10l.94 2.06.94-2.06 2.06-.94-2.06-.94-.94-2.06-.94 2.06-2.06.94z\"/><path d=\"M17.41 7.96l-1.37-1.37c-.4-.4-.92-.59-1.43-.59-.52 0-1.04.2-1.43.59L10.3 9.45l-7.72 7.72c-.78.78-.78 2.05 0 2.83L4 21.41c.39.39.9.59 1.41.59.51 0 1.02-.2 1.41-.59l7.78-7.78 2.81-2.81c.8-.78.8-2.07 0-2.86zM5.41 20L4 18.59l7.72-7.72 1.47 1.35L5.41 20z\"/>\n",
              "  </svg>\n",
              "      </button>\n",
              "      \n",
              "  <style>\n",
              "    .colab-df-container {\n",
              "      display:flex;\n",
              "      flex-wrap:wrap;\n",
              "      gap: 12px;\n",
              "    }\n",
              "\n",
              "    .colab-df-convert {\n",
              "      background-color: #E8F0FE;\n",
              "      border: none;\n",
              "      border-radius: 50%;\n",
              "      cursor: pointer;\n",
              "      display: none;\n",
              "      fill: #1967D2;\n",
              "      height: 32px;\n",
              "      padding: 0 0 0 0;\n",
              "      width: 32px;\n",
              "    }\n",
              "\n",
              "    .colab-df-convert:hover {\n",
              "      background-color: #E2EBFA;\n",
              "      box-shadow: 0px 1px 2px rgba(60, 64, 67, 0.3), 0px 1px 3px 1px rgba(60, 64, 67, 0.15);\n",
              "      fill: #174EA6;\n",
              "    }\n",
              "\n",
              "    [theme=dark] .colab-df-convert {\n",
              "      background-color: #3B4455;\n",
              "      fill: #D2E3FC;\n",
              "    }\n",
              "\n",
              "    [theme=dark] .colab-df-convert:hover {\n",
              "      background-color: #434B5C;\n",
              "      box-shadow: 0px 1px 3px 1px rgba(0, 0, 0, 0.15);\n",
              "      filter: drop-shadow(0px 1px 2px rgba(0, 0, 0, 0.3));\n",
              "      fill: #FFFFFF;\n",
              "    }\n",
              "  </style>\n",
              "\n",
              "      <script>\n",
              "        const buttonEl =\n",
              "          document.querySelector('#df-1a75961a-52e6-4b1d-ba82-595478ced7d5 button.colab-df-convert');\n",
              "        buttonEl.style.display =\n",
              "          google.colab.kernel.accessAllowed ? 'block' : 'none';\n",
              "\n",
              "        async function convertToInteractive(key) {\n",
              "          const element = document.querySelector('#df-1a75961a-52e6-4b1d-ba82-595478ced7d5');\n",
              "          const dataTable =\n",
              "            await google.colab.kernel.invokeFunction('convertToInteractive',\n",
              "                                                     [key], {});\n",
              "          if (!dataTable) return;\n",
              "\n",
              "          const docLinkHtml = 'Like what you see? Visit the ' +\n",
              "            '<a target=\"_blank\" href=https://colab.research.google.com/notebooks/data_table.ipynb>data table notebook</a>'\n",
              "            + ' to learn more about interactive tables.';\n",
              "          element.innerHTML = '';\n",
              "          dataTable['output_type'] = 'display_data';\n",
              "          await google.colab.output.renderOutput(dataTable, element);\n",
              "          const docLink = document.createElement('div');\n",
              "          docLink.innerHTML = docLinkHtml;\n",
              "          element.appendChild(docLink);\n",
              "        }\n",
              "      </script>\n",
              "    </div>\n",
              "  </div>\n",
              "  "
            ]
          },
          "metadata": {},
          "execution_count": 3
        }
      ]
    },
    {
      "cell_type": "markdown",
      "source": [
        "###Preprocessing Data"
      ],
      "metadata": {
        "id": "ftDtrdWSLOSj"
      }
    },
    {
      "cell_type": "code",
      "source": [
        "df[\"target\"].value_counts()"
      ],
      "metadata": {
        "colab": {
          "base_uri": "https://localhost:8080/"
        },
        "id": "gGtNHuAE6-SB",
        "outputId": "1ff4b4c8-eef3-496e-c7c1-68aa5c4a8fa8"
      },
      "execution_count": 4,
      "outputs": [
        {
          "output_type": "execute_result",
          "data": {
            "text/plain": [
              "positive      1050\n",
              "other          560\n",
              "question       448\n",
              "suggestion     406\n",
              "Name: target, dtype: int64"
            ]
          },
          "metadata": {},
          "execution_count": 4
        }
      ]
    },
    {
      "cell_type": "code",
      "source": [
        "df['comments'] = df['comments'].str.replace(\"[^a-zA-Z?!#]\", \" \")   #remove all exception - !?#"
      ],
      "metadata": {
        "colab": {
          "base_uri": "https://localhost:8080/"
        },
        "id": "7o4EBmdqH5Ro",
        "outputId": "7dd4d691-fb4c-48f4-9c76-399a6b700125"
      },
      "execution_count": 5,
      "outputs": [
        {
          "output_type": "stream",
          "name": "stderr",
          "text": [
            "/usr/local/lib/python3.7/dist-packages/ipykernel_launcher.py:1: FutureWarning: The default value of regex will change from True to False in a future version.\n",
            "  \"\"\"Entry point for launching an IPython kernel.\n"
          ]
        }
      ]
    },
    {
      "cell_type": "code",
      "source": [
        "df"
      ],
      "metadata": {
        "colab": {
          "base_uri": "https://localhost:8080/",
          "height": 424
        },
        "id": "0V1JGlYIIsVE",
        "outputId": "fa8de602-0db9-408b-8e42-db5a7dd9264a"
      },
      "execution_count": 6,
      "outputs": [
        {
          "output_type": "execute_result",
          "data": {
            "text/plain": [
              "                                               comments      target\n",
              "0     This guy actually puts in a lot of effort in h...  suggestion\n",
              "1     I ve learnt HTML  CSS  Javascript and Python a...  suggestion\n",
              "2     Watched this video one year ago to start my co...  suggestion\n",
              "3     His teaching is the most effective I ve found ...  suggestion\n",
              "4     I finally finished the whole   hours  and now ...    positive\n",
              "...                                                 ...         ...\n",
              "2459          Who are those   fools disliked the video     question\n",
              "2460                            Anyone from karnataka??    question\n",
              "2461                               th person to comment       other\n",
              "2462                                             Things       other\n",
              "2463  Bruh I done watched about a dozen of these so ...    question\n",
              "\n",
              "[2464 rows x 2 columns]"
            ],
            "text/html": [
              "\n",
              "  <div id=\"df-4c84a556-bff7-416d-b031-7b6c2f9cd9c5\">\n",
              "    <div class=\"colab-df-container\">\n",
              "      <div>\n",
              "<style scoped>\n",
              "    .dataframe tbody tr th:only-of-type {\n",
              "        vertical-align: middle;\n",
              "    }\n",
              "\n",
              "    .dataframe tbody tr th {\n",
              "        vertical-align: top;\n",
              "    }\n",
              "\n",
              "    .dataframe thead th {\n",
              "        text-align: right;\n",
              "    }\n",
              "</style>\n",
              "<table border=\"1\" class=\"dataframe\">\n",
              "  <thead>\n",
              "    <tr style=\"text-align: right;\">\n",
              "      <th></th>\n",
              "      <th>comments</th>\n",
              "      <th>target</th>\n",
              "    </tr>\n",
              "  </thead>\n",
              "  <tbody>\n",
              "    <tr>\n",
              "      <th>0</th>\n",
              "      <td>This guy actually puts in a lot of effort in h...</td>\n",
              "      <td>suggestion</td>\n",
              "    </tr>\n",
              "    <tr>\n",
              "      <th>1</th>\n",
              "      <td>I ve learnt HTML  CSS  Javascript and Python a...</td>\n",
              "      <td>suggestion</td>\n",
              "    </tr>\n",
              "    <tr>\n",
              "      <th>2</th>\n",
              "      <td>Watched this video one year ago to start my co...</td>\n",
              "      <td>suggestion</td>\n",
              "    </tr>\n",
              "    <tr>\n",
              "      <th>3</th>\n",
              "      <td>His teaching is the most effective I ve found ...</td>\n",
              "      <td>suggestion</td>\n",
              "    </tr>\n",
              "    <tr>\n",
              "      <th>4</th>\n",
              "      <td>I finally finished the whole   hours  and now ...</td>\n",
              "      <td>positive</td>\n",
              "    </tr>\n",
              "    <tr>\n",
              "      <th>...</th>\n",
              "      <td>...</td>\n",
              "      <td>...</td>\n",
              "    </tr>\n",
              "    <tr>\n",
              "      <th>2459</th>\n",
              "      <td>Who are those   fools disliked the video</td>\n",
              "      <td>question</td>\n",
              "    </tr>\n",
              "    <tr>\n",
              "      <th>2460</th>\n",
              "      <td>Anyone from karnataka??</td>\n",
              "      <td>question</td>\n",
              "    </tr>\n",
              "    <tr>\n",
              "      <th>2461</th>\n",
              "      <td>th person to comment</td>\n",
              "      <td>other</td>\n",
              "    </tr>\n",
              "    <tr>\n",
              "      <th>2462</th>\n",
              "      <td>Things</td>\n",
              "      <td>other</td>\n",
              "    </tr>\n",
              "    <tr>\n",
              "      <th>2463</th>\n",
              "      <td>Bruh I done watched about a dozen of these so ...</td>\n",
              "      <td>question</td>\n",
              "    </tr>\n",
              "  </tbody>\n",
              "</table>\n",
              "<p>2464 rows × 2 columns</p>\n",
              "</div>\n",
              "      <button class=\"colab-df-convert\" onclick=\"convertToInteractive('df-4c84a556-bff7-416d-b031-7b6c2f9cd9c5')\"\n",
              "              title=\"Convert this dataframe to an interactive table.\"\n",
              "              style=\"display:none;\">\n",
              "        \n",
              "  <svg xmlns=\"http://www.w3.org/2000/svg\" height=\"24px\"viewBox=\"0 0 24 24\"\n",
              "       width=\"24px\">\n",
              "    <path d=\"M0 0h24v24H0V0z\" fill=\"none\"/>\n",
              "    <path d=\"M18.56 5.44l.94 2.06.94-2.06 2.06-.94-2.06-.94-.94-2.06-.94 2.06-2.06.94zm-11 1L8.5 8.5l.94-2.06 2.06-.94-2.06-.94L8.5 2.5l-.94 2.06-2.06.94zm10 10l.94 2.06.94-2.06 2.06-.94-2.06-.94-.94-2.06-.94 2.06-2.06.94z\"/><path d=\"M17.41 7.96l-1.37-1.37c-.4-.4-.92-.59-1.43-.59-.52 0-1.04.2-1.43.59L10.3 9.45l-7.72 7.72c-.78.78-.78 2.05 0 2.83L4 21.41c.39.39.9.59 1.41.59.51 0 1.02-.2 1.41-.59l7.78-7.78 2.81-2.81c.8-.78.8-2.07 0-2.86zM5.41 20L4 18.59l7.72-7.72 1.47 1.35L5.41 20z\"/>\n",
              "  </svg>\n",
              "      </button>\n",
              "      \n",
              "  <style>\n",
              "    .colab-df-container {\n",
              "      display:flex;\n",
              "      flex-wrap:wrap;\n",
              "      gap: 12px;\n",
              "    }\n",
              "\n",
              "    .colab-df-convert {\n",
              "      background-color: #E8F0FE;\n",
              "      border: none;\n",
              "      border-radius: 50%;\n",
              "      cursor: pointer;\n",
              "      display: none;\n",
              "      fill: #1967D2;\n",
              "      height: 32px;\n",
              "      padding: 0 0 0 0;\n",
              "      width: 32px;\n",
              "    }\n",
              "\n",
              "    .colab-df-convert:hover {\n",
              "      background-color: #E2EBFA;\n",
              "      box-shadow: 0px 1px 2px rgba(60, 64, 67, 0.3), 0px 1px 3px 1px rgba(60, 64, 67, 0.15);\n",
              "      fill: #174EA6;\n",
              "    }\n",
              "\n",
              "    [theme=dark] .colab-df-convert {\n",
              "      background-color: #3B4455;\n",
              "      fill: #D2E3FC;\n",
              "    }\n",
              "\n",
              "    [theme=dark] .colab-df-convert:hover {\n",
              "      background-color: #434B5C;\n",
              "      box-shadow: 0px 1px 3px 1px rgba(0, 0, 0, 0.15);\n",
              "      filter: drop-shadow(0px 1px 2px rgba(0, 0, 0, 0.3));\n",
              "      fill: #FFFFFF;\n",
              "    }\n",
              "  </style>\n",
              "\n",
              "      <script>\n",
              "        const buttonEl =\n",
              "          document.querySelector('#df-4c84a556-bff7-416d-b031-7b6c2f9cd9c5 button.colab-df-convert');\n",
              "        buttonEl.style.display =\n",
              "          google.colab.kernel.accessAllowed ? 'block' : 'none';\n",
              "\n",
              "        async function convertToInteractive(key) {\n",
              "          const element = document.querySelector('#df-4c84a556-bff7-416d-b031-7b6c2f9cd9c5');\n",
              "          const dataTable =\n",
              "            await google.colab.kernel.invokeFunction('convertToInteractive',\n",
              "                                                     [key], {});\n",
              "          if (!dataTable) return;\n",
              "\n",
              "          const docLinkHtml = 'Like what you see? Visit the ' +\n",
              "            '<a target=\"_blank\" href=https://colab.research.google.com/notebooks/data_table.ipynb>data table notebook</a>'\n",
              "            + ' to learn more about interactive tables.';\n",
              "          element.innerHTML = '';\n",
              "          dataTable['output_type'] = 'display_data';\n",
              "          await google.colab.output.renderOutput(dataTable, element);\n",
              "          const docLink = document.createElement('div');\n",
              "          docLink.innerHTML = docLinkHtml;\n",
              "          element.appendChild(docLink);\n",
              "        }\n",
              "      </script>\n",
              "    </div>\n",
              "  </div>\n",
              "  "
            ]
          },
          "metadata": {},
          "execution_count": 6
        }
      ]
    },
    {
      "cell_type": "code",
      "source": [
        "X=df['comments']\n",
        "y=df['target']"
      ],
      "metadata": {
        "id": "h0up5uuXIugb"
      },
      "execution_count": 7,
      "outputs": []
    },
    {
      "cell_type": "code",
      "source": [
        "X.shape , y.shape"
      ],
      "metadata": {
        "colab": {
          "base_uri": "https://localhost:8080/"
        },
        "id": "6ET3pyQfKTf3",
        "outputId": "f8ea1d39-2f82-4d4a-e70f-ab4b98974deb"
      },
      "execution_count": 8,
      "outputs": [
        {
          "output_type": "execute_result",
          "data": {
            "text/plain": [
              "((2464,), (2464,))"
            ]
          },
          "metadata": {},
          "execution_count": 8
        }
      ]
    },
    {
      "cell_type": "markdown",
      "source": [
        "#Splitting Data into Training and Test Dataset"
      ],
      "metadata": {
        "id": "wsccazNpKu1F"
      }
    },
    {
      "cell_type": "code",
      "source": [
        "X_train,X_test,y_train,y_test = train_test_split(X,y,test_size=0.1,random_state=42)\n",
        "print(y_train.value_counts())\n",
        "print(y_test.value_counts())"
      ],
      "metadata": {
        "colab": {
          "base_uri": "https://localhost:8080/"
        },
        "id": "9iTdqH0BLCYh",
        "outputId": "26f849f9-f8b9-4459-e873-a07d28b3f1d8"
      },
      "execution_count": 9,
      "outputs": [
        {
          "output_type": "stream",
          "name": "stdout",
          "text": [
            "positive      937\n",
            "other         505\n",
            "question      401\n",
            "suggestion    374\n",
            "Name: target, dtype: int64\n",
            "positive      113\n",
            "other          55\n",
            "question       47\n",
            "suggestion     32\n",
            "Name: target, dtype: int64\n"
          ]
        }
      ]
    },
    {
      "cell_type": "code",
      "source": [
        "X_train"
      ],
      "metadata": {
        "colab": {
          "base_uri": "https://localhost:8080/"
        },
        "id": "My2nSRePMACV",
        "outputId": "c63b9ea9-1021-4faa-b9ee-2e8c90948a62"
      },
      "execution_count": 10,
      "outputs": [
        {
          "output_type": "execute_result",
          "data": {
            "text/plain": [
              "1788                                                     \n",
              "617                                 Really appreciate it!\n",
              "1289    turn on subtitles            I m sorry  I cann...\n",
              "196     This is a good tutorial for anyone who is inte...\n",
              "809     Does this tutorial help? Should I watch it as ...\n",
              "                              ...                        \n",
              "1638    Great course but I would recommend everyone to...\n",
              "1095    having   exams tomorrow and after it  i still ...\n",
              "1130    Not sure if it s to do with version  but I had...\n",
              "1294                                      Anime          \n",
              "860     This is just toned down Java   Bruh           ...\n",
              "Name: comments, Length: 2217, dtype: object"
            ]
          },
          "metadata": {},
          "execution_count": 10
        }
      ]
    },
    {
      "cell_type": "code",
      "source": [
        "train_sentences=X_train.to_list()\n",
        "test_sentences=X_test.to_list()\n",
        "len(train_sentences) , len(test_sentences)"
      ],
      "metadata": {
        "id": "1JeWgytqMeWt",
        "colab": {
          "base_uri": "https://localhost:8080/"
        },
        "outputId": "2e5dcfe7-aacf-4cb5-ae37-567126c35e3a"
      },
      "execution_count": 65,
      "outputs": [
        {
          "output_type": "execute_result",
          "data": {
            "text/plain": [
              "(2217, 247)"
            ]
          },
          "metadata": {},
          "execution_count": 65
        }
      ]
    },
    {
      "cell_type": "markdown",
      "source": [
        "##One hot and label encoder"
      ],
      "metadata": {
        "id": "0b_gsKY9NT_7"
      }
    },
    {
      "cell_type": "code",
      "source": [
        "#one hot encode\n",
        "from sklearn.preprocessing import OneHotEncoder\n",
        "one_hot_encoder=OneHotEncoder(sparse=False)\n",
        "train_labels_one_hot=one_hot_encoder.fit_transform(y_train.to_numpy().reshape(-1,1))\n",
        "test_labels_one_hot=one_hot_encoder.transform(y_test.to_numpy().reshape(-1,1))\n",
        "\n",
        "# Check what training labels look like\n",
        "train_labels_one_hot"
      ],
      "metadata": {
        "colab": {
          "base_uri": "https://localhost:8080/"
        },
        "id": "ESIj--O7Nu9h",
        "outputId": "c229e793-c3fd-4347-c72b-f0bf4df3e103"
      },
      "execution_count": 48,
      "outputs": [
        {
          "output_type": "execute_result",
          "data": {
            "text/plain": [
              "array([[1., 0., 0., 0.],\n",
              "       [0., 1., 0., 0.],\n",
              "       [1., 0., 0., 0.],\n",
              "       ...,\n",
              "       [0., 0., 1., 0.],\n",
              "       [1., 0., 0., 0.],\n",
              "       [0., 0., 1., 0.]])"
            ]
          },
          "metadata": {},
          "execution_count": 48
        }
      ]
    },
    {
      "cell_type": "code",
      "source": [
        "# Extract labels (\"target\" columns) and encode them into integers \n",
        "from sklearn.preprocessing import LabelEncoder\n",
        "label_encoder=LabelEncoder()\n",
        "train_labels_encoded=label_encoder.fit_transform(y_train.to_numpy())\n",
        "test_labels_encoded=label_encoder.fit_transform(y_test.to_numpy())\n",
        "\n",
        "# Check what training labels look like\n",
        "train_labels_encoded"
      ],
      "metadata": {
        "id": "FcDSeCoTPoXy",
        "colab": {
          "base_uri": "https://localhost:8080/"
        },
        "outputId": "ce1364af-28a6-4867-d809-88dbb96c682f"
      },
      "execution_count": 49,
      "outputs": [
        {
          "output_type": "execute_result",
          "data": {
            "text/plain": [
              "array([0, 1, 0, ..., 2, 0, 2])"
            ]
          },
          "metadata": {},
          "execution_count": 49
        }
      ]
    },
    {
      "cell_type": "code",
      "source": [
        "# Get class names and number of classes from LabelEncoder instance\n",
        "num_classes = len(label_encoder.classes_)\n",
        "class_names = label_encoder.classes_\n",
        "num_classes, class_names"
      ],
      "metadata": {
        "colab": {
          "base_uri": "https://localhost:8080/"
        },
        "id": "QCcg5Uy0TdRs",
        "outputId": "804cba0e-09a5-4026-beae-d80c0fa38370"
      },
      "execution_count": 50,
      "outputs": [
        {
          "output_type": "execute_result",
          "data": {
            "text/plain": [
              "(4, array(['other', 'positive', 'question', 'suggestion'], dtype=object))"
            ]
          },
          "metadata": {},
          "execution_count": 50
        }
      ]
    },
    {
      "cell_type": "markdown",
      "source": [
        "#Preparing our data for deep sequence models"
      ],
      "metadata": {
        "id": "anz_-lXVTuK_"
      }
    },
    {
      "cell_type": "code",
      "source": [
        "# How long is each sentence on average?\n",
        "sent_lens = [len(sentence.split()) for sentence in train_sentences]\n",
        "avg_sent_len = np.mean(sent_lens)\n",
        "avg_sent_len # return average sentence length (in tokens)"
      ],
      "metadata": {
        "colab": {
          "base_uri": "https://localhost:8080/"
        },
        "id": "Cv89YpHmT3wB",
        "outputId": "5f215859-bda2-4327-ddab-0d2540234603"
      },
      "execution_count": 51,
      "outputs": [
        {
          "output_type": "execute_result",
          "data": {
            "text/plain": [
              "20.16914749661705"
            ]
          },
          "metadata": {},
          "execution_count": 51
        }
      ]
    },
    {
      "cell_type": "code",
      "source": [
        "plt.hist(sent_lens,bins=10)"
      ],
      "metadata": {
        "colab": {
          "base_uri": "https://localhost:8080/",
          "height": 354
        },
        "id": "ptq8yqS_T7H7",
        "outputId": "ce33d2e6-3d6a-413f-ae23-908da45aae8e"
      },
      "execution_count": 52,
      "outputs": [
        {
          "output_type": "execute_result",
          "data": {
            "text/plain": [
              "(array([1.781e+03, 3.150e+02, 8.800e+01, 1.900e+01, 1.000e+01, 2.000e+00,\n",
              "        0.000e+00, 0.000e+00, 1.000e+00, 1.000e+00]),\n",
              " array([  0. ,  30.3,  60.6,  90.9, 121.2, 151.5, 181.8, 212.1, 242.4,\n",
              "        272.7, 303. ]),\n",
              " <a list of 10 Patch objects>)"
            ]
          },
          "metadata": {},
          "execution_count": 52
        },
        {
          "output_type": "display_data",
          "data": {
            "text/plain": [
              "<Figure size 432x288 with 1 Axes>"
            ],
            "image/png": "[encoded data removed]"
          },
          "metadata": {
            "needs_background": "light"
          }
        }
      ]
    },
    {
      "cell_type": "code",
      "source": [
        "output_seq_len=int(np.percentile(sent_lens,95))\n",
        "output_seq_len"
      ],
      "metadata": {
        "colab": {
          "base_uri": "https://localhost:8080/"
        },
        "id": "lMEqv9tOUWbP",
        "outputId": "6244ca88-96f4-4c8d-d9b1-5f7ddb2450f8"
      },
      "execution_count": 53,
      "outputs": [
        {
          "output_type": "execute_result",
          "data": {
            "text/plain": [
              "65"
            ]
          },
          "metadata": {},
          "execution_count": 53
        }
      ]
    },
    {
      "cell_type": "code",
      "source": [
        "max(sent_lens)"
      ],
      "metadata": {
        "colab": {
          "base_uri": "https://localhost:8080/"
        },
        "id": "4ALPRxrrVFzH",
        "outputId": "b35948cb-4121-446b-e7b2-c9d7945b9046"
      },
      "execution_count": 54,
      "outputs": [
        {
          "output_type": "execute_result",
          "data": {
            "text/plain": [
              "303"
            ]
          },
          "metadata": {},
          "execution_count": 54
        }
      ]
    },
    {
      "cell_type": "markdown",
      "source": [
        "##Create text vectorizer"
      ],
      "metadata": {
        "id": "J69YA-sAUntV"
      }
    },
    {
      "cell_type": "code",
      "source": [
        "# Create text vectorizerz\n",
        "from tensorflow.keras.layers.experimental.preprocessing import TextVectorization\n",
        "\n",
        "text_vectorizer=TextVectorization(output_sequence_length=output_seq_len)"
      ],
      "metadata": {
        "id": "bTt9GKnnVBza"
      },
      "execution_count": 55,
      "outputs": []
    },
    {
      "cell_type": "code",
      "source": [
        "text_vectorizer.adapt(train_sentences)"
      ],
      "metadata": {
        "id": "Bnx0V7NtVnTP"
      },
      "execution_count": 56,
      "outputs": []
    },
    {
      "cell_type": "code",
      "source": [
        "# Test out text vectorizer\n",
        "target_sentence=random.choice(train_sentences)\n",
        "print(f\"Text :\\n{target_sentence}\")\n",
        "print(f\"\\nLength of text : {len(target_sentence.split())}\")\n",
        "print(f\"\\nVectorized_test : {text_vectorizer(target_sentence)}\")"
      ],
      "metadata": {
        "colab": {
          "base_uri": "https://localhost:8080/"
        },
        "id": "yOOS9KyjVtbJ",
        "outputId": "c768cceb-1b2c-4f6e-effb-bc2b7c809859"
      },
      "execution_count": 57,
      "outputs": [
        {
          "output_type": "stream",
          "name": "stdout",
          "text": [
            "Text :\n",
            "Okay  I joke you not  I have been watching Naruto for like a week and starting to get a little burned out  So I am watching this video and think   Hey maybe Ill watch Lost for the  th time  it has been a while since my last watchthrough   So within    seconds or so after that  I get to          That just made my whole night  Thank you for that subtle reference  and this tutorial \n",
            "\n",
            "Length of text : 73\n",
            "\n",
            "Vectorized_test : [1017    2  790    6   55    2   26  165  109 2613   10   37    4  454\n",
            "    7  284    5   73    4  373 3420   95   15    2   57  109    8   16\n",
            "    7  207  293  490  798  212  263   10    3  564   97   12  120  165\n",
            "    4   86  304   18  390 1938   15  680  984   68   15   83   17    2\n",
            "   73    5   17   28  129   18  143 1579   20]\n"
          ]
        }
      ]
    },
    {
      "cell_type": "code",
      "source": [
        "# How many words in our training vocabulary?\n",
        "vocab=text_vectorizer.get_vocabulary()\n",
        "print(f\"Number of words in vocabulary :{len(vocab)}\")\n",
        "print(f\"Most common words in vocabulary :{vocab[:5]}\")\n",
        "print(f\"Least common words in vocabulary :{vocab[-5:]}\")"
      ],
      "metadata": {
        "colab": {
          "base_uri": "https://localhost:8080/"
        },
        "id": "D2t__BCTWcLv",
        "outputId": "92b5c588-8a63-4ae4-ba01-ce884b50b594"
      },
      "execution_count": 58,
      "outputs": [
        {
          "output_type": "stream",
          "name": "stdout",
          "text": [
            "Number of words in vocabulary :3607\n",
            "Most common words in vocabulary :['', '[UNK]', 'i', 'the', 'a']\n",
            "Least common words in vocabulary :['abstraction', 'absence', 'abrupt', 'abilities', 'aayaaa']\n"
          ]
        }
      ]
    },
    {
      "cell_type": "code",
      "source": [
        "text_vectorizer.get_config()"
      ],
      "metadata": {
        "colab": {
          "base_uri": "https://localhost:8080/"
        },
        "id": "IA0qTu5LW9N_",
        "outputId": "d26ca6ac-d095-45c8-b1ec-f113838be04c"
      },
      "execution_count": 59,
      "outputs": [
        {
          "output_type": "execute_result",
          "data": {
            "text/plain": [
              "{'batch_input_shape': (None,),\n",
              " 'dtype': 'string',\n",
              " 'idf_weights': None,\n",
              " 'max_tokens': None,\n",
              " 'name': 'text_vectorization_1',\n",
              " 'ngrams': None,\n",
              " 'output_mode': 'int',\n",
              " 'output_sequence_length': 65,\n",
              " 'pad_to_max_tokens': False,\n",
              " 'ragged': False,\n",
              " 'sparse': False,\n",
              " 'split': 'whitespace',\n",
              " 'standardize': 'lower_and_strip_punctuation',\n",
              " 'trainable': True,\n",
              " 'vocabulary': None}"
            ]
          },
          "metadata": {},
          "execution_count": 59
        }
      ]
    },
    {
      "cell_type": "markdown",
      "source": [
        "##Create custom text embedding"
      ],
      "metadata": {
        "id": "uUUQS79pXzZO"
      }
    },
    {
      "cell_type": "code",
      "source": [
        "token_embed=layers.Embedding(input_dim=len(vocab),\n",
        "                             output_dim=128,\n",
        "                             mask_zero=True,\n",
        "                             name=\"token_embedding\")"
      ],
      "metadata": {
        "id": "sWxuFa0aX9GT"
      },
      "execution_count": 60,
      "outputs": []
    },
    {
      "cell_type": "code",
      "source": [
        "print(f\"Sentence before vectorization: \\n{target_sentence}\")\n",
        "vectorized_sentence=text_vectorizer([target_sentence])\n",
        "print(f\"\\nSentence after vectorization(before embedding): \\n{vectorized_sentence}\")\n",
        "embedded_sentence=token_embed(vectorized_sentence)\n",
        "print(f\"\\nSentece after embedding: \\n{embedded_sentence}\")\n"
      ],
      "metadata": {
        "colab": {
          "base_uri": "https://localhost:8080/"
        },
        "id": "mbGkdAO4_xpo",
        "outputId": "dceb318e-89d7-49e5-f83d-97ab7be95244"
      },
      "execution_count": 61,
      "outputs": [
        {
          "output_type": "stream",
          "name": "stdout",
          "text": [
            "Sentence before vectorization: \n",
            "Okay  I joke you not  I have been watching Naruto for like a week and starting to get a little burned out  So I am watching this video and think   Hey maybe Ill watch Lost for the  th time  it has been a while since my last watchthrough   So within    seconds or so after that  I get to          That just made my whole night  Thank you for that subtle reference  and this tutorial \n",
            "\n",
            "Sentence after vectorization(before embedding): \n",
            "[[1017    2  790    6   55    2   26  165  109 2613   10   37    4  454\n",
            "     7  284    5   73    4  373 3420   95   15    2   57  109    8   16\n",
            "     7  207  293  490  798  212  263   10    3  564   97   12  120  165\n",
            "     4   86  304   18  390 1938   15  680  984   68   15   83   17    2\n",
            "    73    5   17   28  129   18  143 1579   20]]\n",
            "\n",
            "Sentece after embedding: \n",
            "[[[-0.02928541 -0.0067143   0.04658333 ...  0.02517874 -0.01728183\n",
            "    0.02280918]\n",
            "  [ 0.00456344  0.01301548  0.01829245 ... -0.03581589  0.03546648\n",
            "    0.03112246]\n",
            "  [ 0.02837032  0.04939732  0.03272099 ... -0.03982015 -0.02161439\n",
            "    0.03766713]\n",
            "  ...\n",
            "  [-0.00440497  0.04264531  0.02956499 ... -0.03045344  0.03227918\n",
            "   -0.00677222]\n",
            "  [ 0.01057228  0.0429291  -0.01724746 ...  0.01291633  0.00851402\n",
            "    0.01521118]\n",
            "  [ 0.00936861 -0.04464513  0.04129669 ... -0.03013992  0.00975188\n",
            "    0.01260146]]]\n"
          ]
        }
      ]
    },
    {
      "cell_type": "code",
      "source": [
        "print(embedded_sentence.shape)"
      ],
      "metadata": {
        "id": "Wq5em76pEv6q",
        "colab": {
          "base_uri": "https://localhost:8080/"
        },
        "outputId": "123606ed-2e6d-4bcd-d9e6-473ea64c33b8"
      },
      "execution_count": 62,
      "outputs": [
        {
          "output_type": "stream",
          "name": "stdout",
          "text": [
            "(1, 65, 128)\n"
          ]
        }
      ]
    },
    {
      "cell_type": "markdown",
      "source": [
        "#Create datasets"
      ],
      "metadata": {
        "id": "ZfPOG4wtHpnT"
      }
    },
    {
      "cell_type": "code",
      "source": [
        "#Turning our data into Tensorflow datasets\n",
        "train_dataset=tf.data.Dataset.from_tensor_slices((train_sentences,train_labels_one_hot))\n",
        "test_dataset=tf.data.Dataset.from_tensor_slices((test_sentences,test_labels_one_hot))\n",
        "\n",
        "train_dataset"
      ],
      "metadata": {
        "colab": {
          "base_uri": "https://localhost:8080/"
        },
        "id": "6e1sKYiW4Kb0",
        "outputId": "9fd99ec7-9f69-46c6-cce1-6bf99d460507"
      },
      "execution_count": 79,
      "outputs": [
        {
          "output_type": "execute_result",
          "data": {
            "text/plain": [
              "<TensorSliceDataset element_spec=(TensorSpec(shape=(), dtype=tf.string, name=None), TensorSpec(shape=(4,), dtype=tf.float64, name=None))>"
            ]
          },
          "metadata": {},
          "execution_count": 79
        }
      ]
    },
    {
      "cell_type": "code",
      "source": [
        "# Take the TensorSliceDataset's and turn them into prefetched batches\n",
        "train_dataset=train_dataset.batch(32).prefetch(tf.data.AUTOTUNE)\n",
        "test_dataset=test_dataset.batch(32).prefetch(tf.data.AUTOTUNE)\n",
        "\n",
        "train_dataset"
      ],
      "metadata": {
        "colab": {
          "base_uri": "https://localhost:8080/"
        },
        "id": "rnrow-0w5EO7",
        "outputId": "76ac60e6-0116-41d7-ab4a-904b1dd15575"
      },
      "execution_count": 80,
      "outputs": [
        {
          "output_type": "execute_result",
          "data": {
            "text/plain": [
              "<PrefetchDataset element_spec=(TensorSpec(shape=(None,), dtype=tf.string, name=None), TensorSpec(shape=(None, 4), dtype=tf.float64, name=None))>"
            ]
          },
          "metadata": {},
          "execution_count": 80
        }
      ]
    },
    {
      "cell_type": "markdown",
      "source": [
        "#Model 1 : Conv1D with token embedding"
      ],
      "metadata": {
        "id": "ZKnraKAb9BMw"
      }
    },
    {
      "cell_type": "code",
      "source": [
        "# Create 1D convolutional model to process sequences\n",
        "inputs=layers.Input(shape=(1,),dtype=tf.string)\n",
        "text_vector=text_vectorizer(inputs)\n",
        "token_embedding=token_embed(text_vector)\n",
        "x=layers.Conv1D(128,kernel_size=5,padding='same',activation='relu')(token_embedding)\n",
        "x=layers.Conv1D(64,kernel_size=5,padding='same',activation='relu')(token_embedding)\n",
        "x=layers.GlobalAveragePooling1D()(x)\n",
        "outputs=layers.Dense(num_classes,activation='softmax')(x)\n",
        "model_1=tf.keras.Model(inputs,outputs)\n",
        "\n",
        "#Compile\n",
        "model_1.compile(loss='categorical_crossentropy',\n",
        "                optimizer='Adam',\n",
        "                metrics=['accuracy'])"
      ],
      "metadata": {
        "id": "7KljO22F9hbI"
      },
      "execution_count": 81,
      "outputs": []
    },
    {
      "cell_type": "code",
      "source": [
        "model_1.summary()"
      ],
      "metadata": {
        "colab": {
          "base_uri": "https://localhost:8080/"
        },
        "id": "3IuKJVTO_QzQ",
        "outputId": "60684d30-368b-49fc-dc89-81d3f57c1bb6"
      },
      "execution_count": 82,
      "outputs": [
        {
          "output_type": "stream",
          "name": "stdout",
          "text": [
            "Model: \"model_3\"\n",
            "_________________________________________________________________\n",
            " Layer (type)                Output Shape              Param #   \n",
            "=================================================================\n",
            " input_5 (InputLayer)        [(None, 1)]               0         \n",
            "                                                                 \n",
            " text_vectorization_1 (TextV  (None, 65)               0         \n",
            " ectorization)                                                   \n",
            "                                                                 \n",
            " token_embedding (Embedding)  (None, 65, 128)          461696    \n",
            "                                                                 \n",
            " conv1d_6 (Conv1D)           (None, 65, 64)            41024     \n",
            "                                                                 \n",
            " global_average_pooling1d_4   (None, 64)               0         \n",
            " (GlobalAveragePooling1D)                                        \n",
            "                                                                 \n",
            " dense_3 (Dense)             (None, 4)                 260       \n",
            "                                                                 \n",
            "=================================================================\n",
            "Total params: 502,980\n",
            "Trainable params: 502,980\n",
            "Non-trainable params: 0\n",
            "_________________________________________________________________\n"
          ]
        }
      ]
    },
    {
      "cell_type": "code",
      "source": [
        "early_stopping=tf.keras.callbacks.EarlyStopping(monitor='val_loss',mode='min',patience=2,verbose=1)"
      ],
      "metadata": {
        "id": "Ct4lK0TICO1C"
      },
      "execution_count": 86,
      "outputs": []
    },
    {
      "cell_type": "code",
      "source": [
        "model_1_history=model_1.fit(train_dataset,\n",
        "                            epochs=25,\n",
        "                            steps_per_epoch=len(train_dataset),\n",
        "                            validation_data=test_dataset,\n",
        "                            validation_steps=len(test_dataset),\n",
        "                            callbacks=[early_stopping])"
      ],
      "metadata": {
        "colab": {
          "base_uri": "https://localhost:8080/"
        },
        "id": "tVr0tdFn_suJ",
        "outputId": "5ce6256b-2c64-477d-bdb1-80abcfb911f5"
      },
      "execution_count": 87,
      "outputs": [
        {
          "output_type": "stream",
          "name": "stdout",
          "text": [
            "Epoch 1/25\n",
            "70/70 [==============================] - 2s 35ms/step - loss: 0.0240 - accuracy: 0.9946 - val_loss: 2.2036 - val_accuracy: 0.7085\n",
            "Epoch 2/25\n",
            "70/70 [==============================] - 2s 34ms/step - loss: 0.0233 - accuracy: 0.9946 - val_loss: 2.2335 - val_accuracy: 0.7126\n",
            "Epoch 3/25\n",
            "70/70 [==============================] - 2s 35ms/step - loss: 0.0223 - accuracy: 0.9950 - val_loss: 2.2636 - val_accuracy: 0.7045\n",
            "Epoch 3: early stopping\n"
          ]
        }
      ]
    },
    {
      "cell_type": "code",
      "source": [
        "model_1.evaluate(test_dataset)"
      ],
      "metadata": {
        "colab": {
          "base_uri": "https://localhost:8080/"
        },
        "id": "57z1xNM1BwgL",
        "outputId": "19d528a6-c770-446a-e8b4-ca09514c11ef"
      },
      "execution_count": 88,
      "outputs": [
        {
          "output_type": "stream",
          "name": "stdout",
          "text": [
            "8/8 [==============================] - 0s 6ms/step - loss: 2.2636 - accuracy: 0.7045\n"
          ]
        },
        {
          "output_type": "execute_result",
          "data": {
            "text/plain": [
              "[2.263619899749756, 0.7044534683227539]"
            ]
          },
          "metadata": {},
          "execution_count": 88
        }
      ]
    },
    {
      "cell_type": "code",
      "source": [
        "model_1_pred_prob=model_1.predict(test_dataset)\n",
        "model_1_pred_prob"
      ],
      "metadata": {
        "id": "HHsDeD4sDyns"
      },
      "execution_count": null,
      "outputs": []
    },
    {
      "cell_type": "code",
      "source": [
        "model_1_pred=tf.argmax(model_1_pred_prob,axis=1)\n",
        "model_1_pred"
      ],
      "metadata": {
        "colab": {
          "base_uri": "https://localhost:8080/"
        },
        "id": "GN4j0mVKD_RF",
        "outputId": "a7f4c5c1-00f6-4358-c867-9d80d6a251fd"
      },
      "execution_count": 92,
      "outputs": [
        {
          "output_type": "execute_result",
          "data": {
            "text/plain": [
              "<tf.Tensor: shape=(247,), dtype=int64, numpy=\n",
              "array([3, 1, 3, 1, 2, 0, 2, 3, 0, 1, 1, 0, 1, 1, 2, 2, 1, 1, 0, 1, 2, 3,\n",
              "       1, 0, 1, 1, 0, 3, 3, 1, 0, 1, 0, 1, 0, 2, 3, 1, 2, 3, 1, 2, 1, 2,\n",
              "       2, 2, 1, 3, 2, 1, 0, 0, 1, 2, 2, 3, 2, 1, 2, 1, 1, 1, 1, 2, 0, 1,\n",
              "       3, 1, 1, 3, 3, 2, 1, 1, 3, 3, 2, 1, 0, 2, 1, 1, 2, 2, 1, 0, 1, 3,\n",
              "       0, 2, 0, 0, 0, 1, 0, 2, 3, 1, 2, 0, 1, 2, 0, 1, 1, 2, 1, 1, 2, 1,\n",
              "       2, 1, 3, 1, 0, 1, 0, 2, 1, 2, 3, 2, 3, 1, 1, 0, 1, 3, 1, 1, 1, 1,\n",
              "       1, 1, 1, 1, 2, 1, 2, 1, 1, 2, 1, 1, 1, 1, 1, 2, 1, 1, 1, 2, 0, 1,\n",
              "       3, 1, 2, 1, 1, 0, 2, 2, 1, 1, 0, 1, 2, 0, 0, 2, 0, 2, 2, 3, 1, 1,\n",
              "       1, 3, 1, 2, 1, 1, 1, 0, 1, 2, 1, 1, 0, 3, 1, 0, 2, 2, 1, 1, 3, 2,\n",
              "       0, 1, 1, 1, 1, 2, 2, 3, 2, 3, 0, 0, 2, 0, 1, 0, 1, 1, 0, 2, 0, 2,\n",
              "       2, 1, 2, 3, 0, 1, 2, 1, 1, 1, 0, 0, 1, 1, 1, 0, 1, 1, 0, 1, 1, 1,\n",
              "       2, 2, 1, 1, 3])>"
            ]
          },
          "metadata": {},
          "execution_count": 92
        }
      ]
    },
    {
      "cell_type": "code",
      "source": [
        "# Download helper functions script\n",
        "!wget https://raw.githubusercontent.com/mrdbourke/tensorflow-deep-learning/main/extras/helper_functions.py"
      ],
      "metadata": {
        "colab": {
          "base_uri": "https://localhost:8080/"
        },
        "id": "EsBYED-JEflP",
        "outputId": "7d9f3742-dcde-4b5f-a084-6031bc4ee524"
      },
      "execution_count": 93,
      "outputs": [
        {
          "output_type": "stream",
          "name": "stdout",
          "text": [
            "--2022-07-02 04:01:23--  https://raw.githubusercontent.com/mrdbourke/tensorflow-deep-learning/main/extras/helper_functions.py\n",
            "Resolving raw.githubusercontent.com (raw.githubusercontent.com)... 185.199.108.133, 185.199.109.133, 185.199.110.133, ...\n",
            "Connecting to raw.githubusercontent.com (raw.githubusercontent.com)|185.199.108.133|:443... connected.\n",
            "HTTP request sent, awaiting response... 200 OK\n",
            "Length: 10246 (10K) [text/plain]\n",
            "Saving to: ‘helper_functions.py’\n",
            "\n",
            "\rhelper_functions.py   0%[                    ]       0  --.-KB/s               \rhelper_functions.py 100%[===================>]  10.01K  --.-KB/s    in 0s      \n",
            "\n",
            "2022-07-02 04:01:23 (49.3 MB/s) - ‘helper_functions.py’ saved [10246/10246]\n",
            "\n"
          ]
        }
      ]
    },
    {
      "cell_type": "code",
      "source": [
        "from helper_functions import calculate_results"
      ],
      "metadata": {
        "id": "7CrD8VyIEg4H"
      },
      "execution_count": 94,
      "outputs": []
    },
    {
      "cell_type": "code",
      "source": [
        "model_1_results=calculate_results(y_true=test_labels_encoded,\n",
        "                                  y_pred=model_1_pred)\n",
        "model_1_results"
      ],
      "metadata": {
        "colab": {
          "base_uri": "https://localhost:8080/"
        },
        "id": "jy5JanA3EWPa",
        "outputId": "89777d94-11c3-4c8a-ad70-5ae5c14390a0"
      },
      "execution_count": 120,
      "outputs": [
        {
          "output_type": "execute_result",
          "data": {
            "text/plain": [
              "{'accuracy': 70.44534412955466,\n",
              " 'f1': 0.7021651436166771,\n",
              " 'precision': 0.7069420345736135,\n",
              " 'recall': 0.7044534412955465}"
            ]
          },
          "metadata": {},
          "execution_count": 120
        }
      ]
    },
    {
      "cell_type": "code",
      "source": [
        "matrix=confusion_matrix(test_labels_encoded,model_1_pred)\n",
        "t=ConfusionMatrixDisplay(matrix)\n",
        "t.plot()"
      ],
      "metadata": {
        "colab": {
          "base_uri": "https://localhost:8080/",
          "height": 301
        },
        "id": "xlnAOBDZJ2Nk",
        "outputId": "26b87c7c-1d06-4f59-d5a7-df17d9d172c9"
      },
      "execution_count": 122,
      "outputs": [
        {
          "output_type": "execute_result",
          "data": {
            "text/plain": [
              "<sklearn.metrics._plot.confusion_matrix.ConfusionMatrixDisplay at 0x7f118669af90>"
            ]
          },
          "metadata": {},
          "execution_count": 122
        },
        {
          "output_type": "display_data",
          "data": {
            "text/plain": [
              "<Figure size 432x288 with 2 Axes>"
            ],
            "image/png": "[encoded data removed]"
          },
          "metadata": {
            "needs_background": "light"
          }
        }
      ]
    },
    {
      "cell_type": "markdown",
      "source": [
        "#Model 2: Feature extraction with pretrained token embedding"
      ],
      "metadata": {
        "id": "mGLcf1RMBy2v"
      }
    },
    {
      "cell_type": "code",
      "source": [
        "# Download pretrained TensorFlow Hub USE\n",
        "import tensorflow_hub as hub\n",
        "tf_hub_embedding_layer=hub.KerasLayer(\"https://tfhub.dev/google/universal-sentence-encoder/4\",\n",
        "                                        trainable=False,\n",
        "                                        name=\"universal_sentence_encoder\")"
      ],
      "metadata": {
        "id": "TPHj79jnFIFF"
      },
      "execution_count": 99,
      "outputs": []
    },
    {
      "cell_type": "code",
      "source": [
        "random_sentence=random.choice(train_sentences)\n",
        "print(f\"Random training sentence:\\n {train_sentences}\")\n",
        "embed_sentence=tf_hub_embedding_layer([random_sentence])\n",
        "print(f\"Sentence after embedding:\\n {embed_sentence[0]}\")\n",
        "print(f\"Length of embedding:\\n {len(embed_sentence[0])}\")"
      ],
      "metadata": {
        "id": "mhd68CeSFf_H"
      },
      "execution_count": null,
      "outputs": []
    },
    {
      "cell_type": "code",
      "source": [
        "inputs=layers.Input(shape=[],dtype=tf.string)\n",
        "pretrained_embedding=tf_hub_embedding_layer(inputs)\n",
        "x=layers.Dense(128,activation='relu')(pretrained_embedding)\n",
        "x=layers.Dropout(0.2)(x)\n",
        "x=layers.Dense(64,activation='relu')(x)\n",
        "x=layers.Dropout(0.2)(x)\n",
        "x=layers.Dense(32,activation='relu')(x)\n",
        "x=layers.Dropout(0.2)(x)\n",
        "x=layers.Dense(16,activation='relu')(x)\n",
        "x=layers.Dropout(0.2)(x)\n",
        "outputs=layers.Dense(num_classes,activation='softmax')(x)\n",
        "\n",
        "model_2=tf.keras.Model(inputs,outputs)\n",
        "\n",
        "model_2.compile(loss='categorical_crossentropy',\n",
        "                optimizer='adam',\n",
        "                metrics=['accuracy'])\n"
      ],
      "metadata": {
        "id": "Q6RE88-hGbLv"
      },
      "execution_count": 103,
      "outputs": []
    },
    {
      "cell_type": "code",
      "source": [
        "model_2.summary()"
      ],
      "metadata": {
        "colab": {
          "base_uri": "https://localhost:8080/"
        },
        "id": "rm7MJ6UtHsGc",
        "outputId": "6e2ab7a0-22b3-4755-e0d5-a3c1b41df6a3"
      },
      "execution_count": 104,
      "outputs": [
        {
          "output_type": "stream",
          "name": "stdout",
          "text": [
            "Model: \"model_5\"\n",
            "_________________________________________________________________\n",
            " Layer (type)                Output Shape              Param #   \n",
            "=================================================================\n",
            " input_7 (InputLayer)        [(None,)]                 0         \n",
            "                                                                 \n",
            " universal_sentence_encoder   (None, 512)              256797824 \n",
            " (KerasLayer)                                                    \n",
            "                                                                 \n",
            " dense_9 (Dense)             (None, 128)               65664     \n",
            "                                                                 \n",
            " dropout_4 (Dropout)         (None, 128)               0         \n",
            "                                                                 \n",
            " dense_10 (Dense)            (None, 64)                8256      \n",
            "                                                                 \n",
            " dropout_5 (Dropout)         (None, 64)                0         \n",
            "                                                                 \n",
            " dense_11 (Dense)            (None, 32)                2080      \n",
            "                                                                 \n",
            " dropout_6 (Dropout)         (None, 32)                0         \n",
            "                                                                 \n",
            " dense_12 (Dense)            (None, 16)                528       \n",
            "                                                                 \n",
            " dropout_7 (Dropout)         (None, 16)                0         \n",
            "                                                                 \n",
            " dense_13 (Dense)            (None, 4)                 68        \n",
            "                                                                 \n",
            "=================================================================\n",
            "Total params: 256,874,420\n",
            "Trainable params: 76,596\n",
            "Non-trainable params: 256,797,824\n",
            "_________________________________________________________________\n"
          ]
        }
      ]
    },
    {
      "cell_type": "code",
      "source": [
        "model_2_history=model_2.fit(train_dataset,\n",
        "                            epochs=50,\n",
        "                            validation_data=test_dataset,\n",
        "                            callbacks=[early_stopping])\n"
      ],
      "metadata": {
        "colab": {
          "base_uri": "https://localhost:8080/"
        },
        "id": "KmRvFs8fHuQJ",
        "outputId": "4779de1a-8ba7-4510-bbca-24a81f9c853b"
      },
      "execution_count": 105,
      "outputs": [
        {
          "output_type": "stream",
          "name": "stdout",
          "text": [
            "Epoch 1/50\n",
            "70/70 [==============================] - 8s 52ms/step - loss: 1.1376 - accuracy: 0.4714 - val_loss: 0.8649 - val_accuracy: 0.6599\n",
            "Epoch 2/50\n",
            "70/70 [==============================] - 2s 23ms/step - loss: 0.8420 - accuracy: 0.6613 - val_loss: 0.7189 - val_accuracy: 0.7166\n",
            "Epoch 3/50\n",
            "70/70 [==============================] - 2s 24ms/step - loss: 0.7140 - accuracy: 0.7181 - val_loss: 0.6812 - val_accuracy: 0.7449\n",
            "Epoch 4/50\n",
            "70/70 [==============================] - 2s 24ms/step - loss: 0.6638 - accuracy: 0.7343 - val_loss: 0.6636 - val_accuracy: 0.7530\n",
            "Epoch 5/50\n",
            "70/70 [==============================] - 2s 24ms/step - loss: 0.6126 - accuracy: 0.7673 - val_loss: 0.6682 - val_accuracy: 0.7530\n",
            "Epoch 6/50\n",
            "70/70 [==============================] - 2s 24ms/step - loss: 0.5489 - accuracy: 0.8002 - val_loss: 0.6729 - val_accuracy: 0.7733\n",
            "Epoch 6: early stopping\n"
          ]
        }
      ]
    },
    {
      "cell_type": "code",
      "source": [
        "model_2.evaluate(test_dataset)"
      ],
      "metadata": {
        "colab": {
          "base_uri": "https://localhost:8080/"
        },
        "id": "m3vIcH9gIXVv",
        "outputId": "15c3e85c-4771-4032-d296-e16c49fbdba6"
      },
      "execution_count": 106,
      "outputs": [
        {
          "output_type": "stream",
          "name": "stdout",
          "text": [
            "8/8 [==============================] - 0s 22ms/step - loss: 0.6729 - accuracy: 0.7733\n"
          ]
        },
        {
          "output_type": "execute_result",
          "data": {
            "text/plain": [
              "[0.6729310750961304, 0.7732793688774109]"
            ]
          },
          "metadata": {},
          "execution_count": 106
        }
      ]
    },
    {
      "cell_type": "code",
      "source": [
        "model_2_pred_prob=model_2.predict(test_dataset)\n",
        "model_2_pred_prob"
      ],
      "metadata": {
        "id": "6th-ly30InWa"
      },
      "execution_count": null,
      "outputs": []
    },
    {
      "cell_type": "code",
      "source": [
        "model_2_preds=tf.argmax(model_2_pred_prob,axis=1)\n",
        "model_2_preds"
      ],
      "metadata": {
        "colab": {
          "base_uri": "https://localhost:8080/"
        },
        "id": "n7i6iUNKIuKo",
        "outputId": "dfee5f0c-cfb9-4798-e35b-2d236d6bc3de"
      },
      "execution_count": 108,
      "outputs": [
        {
          "output_type": "execute_result",
          "data": {
            "text/plain": [
              "<tf.Tensor: shape=(247,), dtype=int64, numpy=\n",
              "array([3, 1, 3, 1, 2, 1, 2, 3, 0, 1, 1, 0, 1, 1, 1, 3, 1, 0, 0, 1, 1, 1,\n",
              "       1, 0, 1, 1, 1, 2, 3, 1, 3, 1, 0, 1, 0, 1, 0, 1, 2, 1, 1, 2, 1, 2,\n",
              "       0, 2, 1, 3, 2, 1, 0, 0, 1, 2, 2, 2, 3, 1, 2, 1, 1, 1, 1, 2, 0, 2,\n",
              "       3, 1, 1, 0, 1, 2, 1, 3, 1, 3, 2, 1, 0, 3, 1, 1, 2, 2, 1, 1, 1, 3,\n",
              "       0, 2, 0, 0, 0, 1, 3, 3, 3, 1, 2, 0, 1, 2, 0, 3, 1, 2, 1, 1, 3, 1,\n",
              "       3, 0, 3, 1, 3, 3, 0, 2, 1, 2, 3, 2, 2, 1, 1, 0, 1, 3, 1, 1, 1, 3,\n",
              "       1, 1, 1, 1, 2, 1, 2, 1, 1, 2, 1, 1, 1, 0, 1, 2, 2, 1, 1, 2, 3, 1,\n",
              "       0, 3, 0, 1, 1, 0, 1, 2, 1, 3, 0, 1, 2, 0, 2, 2, 0, 2, 3, 3, 0, 1,\n",
              "       1, 1, 1, 2, 1, 0, 1, 0, 1, 3, 0, 1, 0, 3, 1, 0, 3, 2, 1, 1, 3, 2,\n",
              "       3, 1, 0, 1, 1, 3, 2, 1, 3, 3, 0, 2, 2, 0, 1, 0, 0, 1, 0, 2, 2, 2,\n",
              "       3, 1, 0, 3, 0, 3, 3, 1, 1, 1, 0, 0, 1, 1, 0, 0, 1, 0, 0, 1, 1, 3,\n",
              "       2, 2, 1, 3, 2])>"
            ]
          },
          "metadata": {},
          "execution_count": 108
        }
      ]
    },
    {
      "cell_type": "code",
      "source": [
        "model_2_results=calculate_results(y_true=test_labels_encoded,y_pred=model_2_preds)\n",
        "model_2_results"
      ],
      "metadata": {
        "colab": {
          "base_uri": "https://localhost:8080/"
        },
        "id": "40wbrZsyI2wP",
        "outputId": "4d76719d-7535-4df9-97b4-e0e4c72ef777"
      },
      "execution_count": 110,
      "outputs": [
        {
          "output_type": "execute_result",
          "data": {
            "text/plain": [
              "{'accuracy': 77.32793522267207,\n",
              " 'f1': 0.7789526955039421,\n",
              " 'precision': 0.7906763421656423,\n",
              " 'recall': 0.7732793522267206}"
            ]
          },
          "metadata": {},
          "execution_count": 110
        }
      ]
    },
    {
      "cell_type": "code",
      "source": [
        "matrix=confusion_matrix(test_labels_encoded,model_2_preds)\n",
        "t=ConfusionMatrixDisplay(matrix)\n",
        "t.plot()"
      ],
      "metadata": {
        "colab": {
          "base_uri": "https://localhost:8080/",
          "height": 297
        },
        "id": "FhntwgkZJGeb",
        "outputId": "4c32e4f0-661d-4d72-e2bb-f42ac7565499"
      },
      "execution_count": 118,
      "outputs": [
        {
          "output_type": "execute_result",
          "data": {
            "text/plain": [
              "<sklearn.metrics._plot.confusion_matrix.ConfusionMatrixDisplay at 0x7f11867bc250>"
            ]
          },
          "metadata": {},
          "execution_count": 118
        },
        {
          "output_type": "display_data",
          "data": {
            "text/plain": [
              "<Figure size 432x288 with 2 Axes>"
            ],
            "image/png": "[encoded data removed]"
          },
          "metadata": {
            "needs_background": "light"
          }
        }
      ]
    },
    {
      "cell_type": "code",
      "source": [
        "model_2.save('/content/drive/MyDrive/Saved model/youtube_3k/model_2')"
      ],
      "metadata": {
        "colab": {
          "base_uri": "https://localhost:8080/"
        },
        "id": "z9nFCtm6Jaqc",
        "outputId": "710574d2-bfdf-438e-a08b-28360f681e40"
      },
      "execution_count": 131,
      "outputs": [
        {
          "output_type": "stream",
          "name": "stdout",
          "text": [
            "INFO:tensorflow:Assets written to: /content/drive/MyDrive/Saved model/youtube_3k/model_2/assets\n"
          ]
        },
        {
          "output_type": "stream",
          "name": "stderr",
          "text": [
            "INFO:tensorflow:Assets written to: /content/drive/MyDrive/Saved model/youtube_3k/model_2/assets\n"
          ]
        }
      ]
    },
    {
      "cell_type": "code",
      "source": [
        "model_2.save('/content/drive/MyDrive/Saved model/model_2.h5')"
      ],
      "metadata": {
        "id": "mEeeVWuWOt8p"
      },
      "execution_count": 125,
      "outputs": []
    },
    {
      "cell_type": "code",
      "source": [
        "new_model = tf.keras.models.load_model('/content/drive/MyDrive/Saved model/youtube_3k/model_2')\n",
        "new_model.summary()"
      ],
      "metadata": {
        "id": "9p4uBz1VO72v"
      },
      "execution_count": null,
      "outputs": []
    },
    {
      "cell_type": "code",
      "source": [
        ""
      ],
      "metadata": {
        "id": "L7-Y2KEXPCf1"
      },
      "execution_count": null,
      "outputs": []
    }
  ]
}